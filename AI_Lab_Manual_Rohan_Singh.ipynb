{
  "nbformat": 4,
  "nbformat_minor": 0,
  "metadata": {
    "kernelspec": {
      "display_name": "Python 3",
      "language": "python",
      "name": "python3"
    },
    "language_info": {
      "codemirror_mode": {
        "name": "ipython",
        "version": 3
      },
      "file_extension": ".py",
      "mimetype": "text/x-python",
      "name": "python",
      "nbconvert_exporter": "python",
      "pygments_lexer": "ipython3",
      "version": "3.8.3"
    },
    "colab": {
      "name": "AI_Lab_Manual Rohan Singh.ipynb",
      "provenance": [],
      "collapsed_sections": []
    }
  },
  "cells": [
    {
      "cell_type": "code",
      "metadata": {
        "scrolled": false,
        "id": "nGmZKB6DKdpX",
        "outputId": "094b7677-e4de-48ee-bd67-68c1094d0151"
      },
      "source": [
        "#Question 1\n",
        "#The following program tells the user about the number whether it is even or odd.\n",
        "num=int(input(\"Enter a number: \"))\n",
        "if(num%2)==0:\n",
        "    print(\"The number is even.\")\n",
        "else:\n",
        "    print(\"The number is odd.\")"
      ],
      "execution_count": null,
      "outputs": [
        {
          "output_type": "stream",
          "text": [
            "Enter a number: 3\n",
            "The number is odd.\n"
          ],
          "name": "stdout"
        }
      ]
    },
    {
      "cell_type": "code",
      "metadata": {
        "scrolled": false,
        "id": "xvo37u-rKdpb",
        "outputId": "ec034b99-2489-4728-c584-edbf7ab6a88a"
      },
      "source": [
        "#Question 2\n",
        "#The following program tells the user whether a respective year is a leap year or not.\n",
        "year=int(input(\"Enter a year: \"))\n",
        "if(year%4)==0:\n",
        "    if(year%100)==0:\n",
        "        if(year%400)==0:\n",
        "            print(\"It is a leap year.\")\n",
        "        else:print(\"It is not a leap year.\")\n",
        "    else:print(\"It is a leap year.\")\n",
        "else:print(\"It is not a leap year.\")"
      ],
      "execution_count": null,
      "outputs": [
        {
          "output_type": "stream",
          "text": [
            "Enter a year: 1700\n",
            "It is not a leap year.\n"
          ],
          "name": "stdout"
        }
      ]
    },
    {
      "cell_type": "code",
      "metadata": {
        "id": "jJxegeHJKdpc",
        "outputId": "67a99e23-c65a-4772-ca45-1b67ae937178"
      },
      "source": [
        "#Question 3\n",
        "#The following program tells the user about the largest number among three numbers.\n",
        "num1=int(input(\"Enter a number: \"))\n",
        "num2=int(input(\"Enter one more number: \"))\n",
        "num3=int(input(\"Enter one more number: \"))\n",
        "if(num1>=num2)and(num1>=num3):\n",
        "    largest=num1\n",
        "elif(num2>=num1)and(num2>=num3):\n",
        "    largest=num2\n",
        "else:\n",
        "    largest=num3\n",
        "print(\"The largest number is\",largest)"
      ],
      "execution_count": null,
      "outputs": [
        {
          "output_type": "stream",
          "text": [
            "Enter a number: 2\n",
            "Enter one more number: 4\n",
            "Enter one more number: 0\n",
            "The largest number is 4\n"
          ],
          "name": "stdout"
        }
      ]
    },
    {
      "cell_type": "code",
      "metadata": {
        "id": "1TDzyvTHKdpc",
        "outputId": "41e0eeb8-e09a-4771-bcb7-21938bd38d8c"
      },
      "source": [
        "#Question 4\n",
        "#The following program tells the user the area of a triangle using Heron's Formula.\n",
        "a=float(input(\"Enter first side: \"))\n",
        "b=float(input(\"Enter second side: \"))\n",
        "c=float(input(\"Enter third side: \"))\n",
        "s=(a+b+c)/2\n",
        "area=(s*(s-a)*(s-b)*(s-c))**0.5\n",
        "print(\"The area is\",area)"
      ],
      "execution_count": null,
      "outputs": [
        {
          "output_type": "stream",
          "text": [
            "Enter first side: 5\n",
            "Enter second side: 4.7\n",
            "Enter third side: 9.1\n",
            "The area is 7.636596100357786\n"
          ],
          "name": "stdout"
        }
      ]
    },
    {
      "cell_type": "code",
      "metadata": {
        "id": "9cGOWtdhKdpc",
        "outputId": "2da109cb-09db-484c-cbd2-b6c268abbfe9"
      },
      "source": [
        "#Question 5\n",
        "#The following program swaps any two numbers using the XOR swap method [not applicable for strings].\n",
        "x=41\n",
        "y=35\n",
        "x = x ^ y\n",
        "y = x ^ y\n",
        "x = x ^ y\n",
        "\n",
        "print(\"x =\", x)\n",
        "print(\"y =\", y)"
      ],
      "execution_count": null,
      "outputs": [
        {
          "output_type": "stream",
          "text": [
            "x = 35\n",
            "y = 41\n"
          ],
          "name": "stdout"
        }
      ]
    },
    {
      "cell_type": "code",
      "metadata": {
        "colab": {
          "base_uri": "https://localhost:8080/"
        },
        "id": "fJ-D9LhtKdpd",
        "outputId": "96dc9db1-14ee-4a12-d4dd-9d17408ba7ce"
      },
      "source": [
        "#Question 6\n",
        "#The following program adds any two numbers.\n",
        "a=float(input(\"Enter first number: \"))\n",
        "b=float(input(\"Enter second number: \"))\n",
        "\n",
        "print(\"The sum is\", a+b)"
      ],
      "execution_count": null,
      "outputs": [
        {
          "output_type": "stream",
          "text": [
            "Enter first number: 5.6\n",
            "Enter second number: 7.7\n",
            "The sum is 13.3\n"
          ],
          "name": "stdout"
        }
      ]
    },
    {
      "cell_type": "code",
      "metadata": {
        "colab": {
          "base_uri": "https://localhost:8080/"
        },
        "id": "gXDqi2GfKdpd",
        "outputId": "8505ad15-0198-407f-c27a-f83e7d66bf1c"
      },
      "source": [
        "#Question 7\n",
        "#The following program tells the user about the largest number among two user inputted numbers.\n",
        "a=float(input(\"Enter first number: \"))\n",
        "b=float(input(\"Enter second number: \"))\n",
        "\n",
        "if a>=b:\n",
        "    print(a,\"is the big number.\")\n",
        "else:\n",
        "    print(b,\"is the big number.\")"
      ],
      "execution_count": null,
      "outputs": [
        {
          "output_type": "stream",
          "text": [
            "Enter first number: 7.3\n",
            "Enter second number: 6.55\n",
            "7.3 is the big number.\n"
          ],
          "name": "stdout"
        }
      ]
    },
    {
      "cell_type": "code",
      "metadata": {
        "colab": {
          "base_uri": "https://localhost:8080/"
        },
        "id": "bqkqIQATKdpe",
        "outputId": "a6d0589b-ed1a-46f0-e243-e16adf5079b8"
      },
      "source": [
        "#Question 8\n",
        "#The following program calculates the simple interest and total payable amount of a principal amount based on rate of interest and time.\n",
        "p=float(input(\"Enter Principal Amount: \"))\n",
        "t=float(input(\"Enter Time: \"))\n",
        "r=float(input(\"Enter Interest Rate: \"))\n",
        "\n",
        "s=(p*t*r)/100\n",
        "a=(s+p)\n",
        "print(\"The Simple Interest is\", s)\n",
        "print(\"The Total Amount to be paid after\", t, \"years is ₹\",a)"
      ],
      "execution_count": null,
      "outputs": [
        {
          "output_type": "stream",
          "text": [
            "Enter Principal Amount: 6789.7\n",
            "Enter Time: 4.3\n",
            "Enter Interest Rate: 2.79\n",
            "The Simple Interest is 814.560309\n",
            "The Total Amount to be paid after 4.3 years is ₹ 7604.260308999999\n"
          ],
          "name": "stdout"
        }
      ]
    },
    {
      "cell_type": "code",
      "metadata": {
        "colab": {
          "base_uri": "https://localhost:8080/"
        },
        "id": "vQTyjprbKdpe",
        "outputId": "65c1bc5e-50bb-4eb0-d295-0962e2c44d33"
      },
      "source": [
        "#Question 9\n",
        "#The following program calculates the area of a circle based on the radius.\n",
        "r=float(input(\"Enter Radius in meter: \"))\n",
        "pi=3.142\n",
        "a=pi*(r*r);\n",
        "print(\"The Area of the circle is\", a, \"m^2\")"
      ],
      "execution_count": null,
      "outputs": [
        {
          "output_type": "stream",
          "text": [
            "Enter Radius in meter: 11\n",
            "The Area of the circle is 380.182 m^2\n"
          ],
          "name": "stdout"
        }
      ]
    },
    {
      "cell_type": "code",
      "metadata": {
        "colab": {
          "base_uri": "https://localhost:8080/"
        },
        "id": "zNpmGUUQKdpe",
        "outputId": "cce78ba0-2b6b-4811-9170-def24905ad24"
      },
      "source": [
        "#Question 10\n",
        "#The following program calculates factorial of a number.\n",
        "n=int(input(\"Enter a number: \"))\n",
        "factorial = 1\n",
        "\n",
        "if n < 0:\n",
        "   print(\"Factorial does not exist for negative numbers according to mathematics.\")\n",
        "elif n == 0:\n",
        "   print(\"The factorial of 0 will be 1\")\n",
        "else:\n",
        "   for i in range(1,n + 1):\n",
        "       factorial = factorial*i\n",
        "   print(\"The factorial of the number\",n,\"is\",factorial)"
      ],
      "execution_count": null,
      "outputs": [
        {
          "output_type": "stream",
          "text": [
            "Enter a number: 9\n",
            "The factorial of the number 9 is 362880\n"
          ],
          "name": "stdout"
        }
      ]
    }
  ]
}